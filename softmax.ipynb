{
 "cells": [
  {
   "cell_type": "code",
   "execution_count": 1,
   "id": "813b1493",
   "metadata": {},
   "outputs": [],
   "source": [
    "import numpy as np"
   ]
  },
  {
   "cell_type": "code",
   "execution_count": 2,
   "id": "28d6b7fa",
   "metadata": {},
   "outputs": [],
   "source": [
    "class softmax:\n",
    "    def __init__(self,epochs,classes,random_st,lr):\n",
    "        self.epochs = epochs\n",
    "        self.random_st = random_st\n",
    "        self.classes = classes\n",
    "        self.lr = lr\n",
    "        self.weights = None\n",
    "        self.bias = None\n",
    "    def get_score(self,X):\n",
    "        return np.dot(X,self.weights)+self.bias\n",
    "    def get_prob(self,scores):\n",
    "        scores = scores-np.max(scores,axis=1,keepdims=True)\n",
    "        return np.exp(scores)/np.sum(np.exp(scores),axis=1,keepdims=True)\n",
    "    def to_one_hot(self,Y):\n",
    "        return np.eye(self.classes)[Y]\n",
    "    def compute_gradients(self,prob,one_hot,X,m_samp):\n",
    "        d_score = prob-one_hot\n",
    "        dw = (1/m_samp)*np.dot(X.T,d_score)\n",
    "        db =(1/m_samp)*np.sum(d_score)\n",
    "        self.weights = self.weights-self.lr*dw\n",
    "        self.bias = self.bias-self.lr*db    \n",
    "    def fit(self,X,Y):\n",
    "        n_samp,m_feat = X.shape\n",
    "        self.weights = np.zeros((m_feat,self.classes))\n",
    "        self.bias=np.zeros((1,self.classes))\n",
    "        one_hot = self.to_one_hot(Y.astype(int))\n",
    "        for i in range(self.epochs):\n",
    "            scores = self.get_score(X)\n",
    "            prob = self.get_prob(scores)\n",
    "            \n",
    "            self.compute_gradients(prob,one_hot,X,n_samp)\n",
    "    def predict(self,X):\n",
    "        scores = np.dot(X,self.weights)+self.bias\n",
    "        prob = np.exp(scores)/np.sum(np.exp(scores))\n",
    "        return np.argmax(prob,axis=1)\n",
    "\n",
    "            \n",
    "\n",
    "\n",
    "    \n",
    "        \n"
   ]
  },
  {
   "cell_type": "code",
   "execution_count": 3,
   "id": "971a09bb",
   "metadata": {},
   "outputs": [],
   "source": [
    "from sklearn.datasets import load_iris\n",
    "from sklearn.model_selection import train_test_split"
   ]
  },
  {
   "cell_type": "code",
   "execution_count": 4,
   "id": "43c9ebeb",
   "metadata": {},
   "outputs": [],
   "source": [
    "data = load_iris()\n"
   ]
  },
  {
   "cell_type": "code",
   "execution_count": 5,
   "id": "41736ea5",
   "metadata": {},
   "outputs": [],
   "source": [
    "X = data.data\n",
    "Y = data.target\n",
    "\n"
   ]
  },
  {
   "cell_type": "code",
   "execution_count": 6,
   "id": "386da516",
   "metadata": {},
   "outputs": [],
   "source": [
    "x_train,x_test,y_train,y_test = train_test_split(X,Y,test_size=0.2,random_state=41)"
   ]
  },
  {
   "cell_type": "code",
   "execution_count": null,
   "id": "000fe674",
   "metadata": {},
   "outputs": [],
   "source": []
  },
  {
   "cell_type": "code",
   "execution_count": 7,
   "id": "eec62343",
   "metadata": {},
   "outputs": [],
   "source": [
    "model = softmax(1000,3,41,0.01)"
   ]
  },
  {
   "cell_type": "code",
   "execution_count": 8,
   "id": "9c3012d7",
   "metadata": {},
   "outputs": [],
   "source": [
    "model.fit(x_train,y_train)"
   ]
  },
  {
   "cell_type": "code",
   "execution_count": 9,
   "id": "790f3a6d",
   "metadata": {},
   "outputs": [],
   "source": [
    "pred = model.predict(x_test)"
   ]
  },
  {
   "cell_type": "code",
   "execution_count": 10,
   "id": "190870d9",
   "metadata": {},
   "outputs": [],
   "source": [
    "from sklearn.metrics import confusion_matrix,accuracy_score,f1_score,r2_score,precision_score"
   ]
  },
  {
   "cell_type": "code",
   "execution_count": 13,
   "id": "36cdea44",
   "metadata": {},
   "outputs": [
    {
     "name": "stdout",
     "output_type": "stream",
     "text": [
      "[[ 9  0  0]\n",
      " [ 0 10  1]\n",
      " [ 0  0 10]]\n",
      "accuracy_score: 0.9666666666666667\n",
      "r2 score: 0.9472759226713533\n"
     ]
    }
   ],
   "source": [
    "print(confusion_matrix(y_test,pred))\n",
    "print('accuracy_score:',accuracy_score(y_test,pred))\n",
    "\n",
    "print(\"r2 score:\",r2_score(y_test,pred))\n"
   ]
  }
 ],
 "metadata": {
  "kernelspec": {
   "display_name": "Python 3",
   "language": "python",
   "name": "python3"
  },
  "language_info": {
   "codemirror_mode": {
    "name": "ipython",
    "version": 3
   },
   "file_extension": ".py",
   "mimetype": "text/x-python",
   "name": "python",
   "nbconvert_exporter": "python",
   "pygments_lexer": "ipython3",
   "version": "3.13.3"
  }
 },
 "nbformat": 4,
 "nbformat_minor": 5
}
