{
 "cells": [
  {
   "cell_type": "code",
   "execution_count": 187,
   "id": "cae8411e",
   "metadata": {},
   "outputs": [],
   "source": [
    "import numpy as np\n",
    "from collections import Counter"
   ]
  },
  {
   "cell_type": "code",
   "execution_count": 188,
   "id": "5d28b828",
   "metadata": {},
   "outputs": [],
   "source": [
    "class KNN:\n",
    "    def __init__(self,k):\n",
    "        self.k = k\n",
    "        self.x_train=None\n",
    "        self.y_train = None\n",
    "    def fit(self,X,Y):\n",
    "        self.x_train=X\n",
    "        self.y_train=Y\n",
    "    def predict_one(self,x):\n",
    "        distances = [np.sqrt(np.sum((x-x_tr)**2)) for x_tr in self.x_train]\n",
    "        k_indices = np.argsort(np.array(distances))[:self.k]\n",
    "        return Counter(self.y_train[k_indices]).most_common(1)[0][0]\n",
    "    def predict(self,X):\n",
    "        return np.array([self.predict_one(x) for x in X])\n",
    "\n"
   ]
  },
  {
   "cell_type": "code",
   "execution_count": 197,
   "id": "78d99736",
   "metadata": {},
   "outputs": [],
   "source": [
    "from sklearn.datasets import load_iris\n",
    "from sklearn.model_selection import train_test_split\n",
    "from sklearn.metrics import confusion_matrix,accuracy_score,r2_score\n"
   ]
  },
  {
   "cell_type": "code",
   "execution_count": 190,
   "id": "b31ec677",
   "metadata": {},
   "outputs": [],
   "source": [
    "data = load_iris()\n",
    "X = data.data\n",
    "Y = data.target"
   ]
  },
  {
   "cell_type": "code",
   "execution_count": 191,
   "id": "1ed5f26d",
   "metadata": {},
   "outputs": [],
   "source": [
    "x_train,x_test,y_train,y_test = train_test_split(X,Y,test_size=0.2,random_state=41)"
   ]
  },
  {
   "cell_type": "code",
   "execution_count": 192,
   "id": "3627f3a0",
   "metadata": {},
   "outputs": [],
   "source": [
    "model = KNN(5)"
   ]
  },
  {
   "cell_type": "code",
   "execution_count": 193,
   "id": "a96f0115",
   "metadata": {},
   "outputs": [],
   "source": [
    "model.fit(x_train,y_train)"
   ]
  },
  {
   "cell_type": "code",
   "execution_count": 194,
   "id": "e9c5e3df",
   "metadata": {},
   "outputs": [],
   "source": [
    "pred = model.predict(x_test)"
   ]
  },
  {
   "cell_type": "code",
   "execution_count": 195,
   "id": "7df39064",
   "metadata": {},
   "outputs": [
    {
     "data": {
      "text/plain": [
       "array([2, 2, 2, 1, 2, 1, 2, 1, 2, 2, 2, 0, 0, 1, 0, 2, 0, 2, 0, 0, 1, 2,\n",
       "       0, 0, 1, 1, 1, 1, 0, 1])"
      ]
     },
     "execution_count": 195,
     "metadata": {},
     "output_type": "execute_result"
    }
   ],
   "source": [
    "pred"
   ]
  },
  {
   "cell_type": "code",
   "execution_count": 198,
   "id": "a175dcbb",
   "metadata": {},
   "outputs": [
    {
     "name": "stdout",
     "output_type": "stream",
     "text": [
      "[[ 9  0  0]\n",
      " [ 0 10  1]\n",
      " [ 0  0 10]]\n",
      "accuracy: 0.9666666666666667\n",
      "r2 score: 0.9472759226713533\n"
     ]
    }
   ],
   "source": [
    "print(confusion_matrix(y_test,pred))\n",
    "print(\"accuracy:\",accuracy_score(y_test,pred))\n",
    "print(\"r2 score:\",r2_score(y_test,pred))\n"
   ]
  }
 ],
 "metadata": {
  "kernelspec": {
   "display_name": "Python 3",
   "language": "python",
   "name": "python3"
  },
  "language_info": {
   "codemirror_mode": {
    "name": "ipython",
    "version": 3
   },
   "file_extension": ".py",
   "mimetype": "text/x-python",
   "name": "python",
   "nbconvert_exporter": "python",
   "pygments_lexer": "ipython3",
   "version": "3.13.3"
  }
 },
 "nbformat": 4,
 "nbformat_minor": 5
}
