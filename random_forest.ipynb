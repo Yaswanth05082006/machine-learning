{
 "cells": [
  {
   "cell_type": "code",
   "execution_count": 45,
   "id": "74c34945",
   "metadata": {},
   "outputs": [],
   "source": [
    "import numpy as np\n",
    "from collections import Counter"
   ]
  },
  {
   "cell_type": "code",
   "execution_count": 46,
   "id": "60a4ef35",
   "metadata": {},
   "outputs": [],
   "source": [
    "\n",
    "\n",
    "class Node:\n",
    "    def __init__(self, feature=None, threshold=None, left=None, right=None, value=None):\n",
    "        self.feature = feature\n",
    "        self.threshold = threshold\n",
    "        self.left = left\n",
    "        self.right = right\n",
    "        self.value = value\n",
    "\n",
    "class decision_tree:\n",
    "    def __init__(self, max_dep, n_features_split=None):\n",
    "        self.max_dep = max_dep\n",
    "        self.root = None\n",
    "        self.n_features_split = n_features_split  # number of features to try at each split\n",
    "\n",
    "    def gini(self, y):\n",
    "        classes = np.unique(y)\n",
    "        gini = 1\n",
    "        for c in classes:\n",
    "            p = np.sum(y == c) / len(y)\n",
    "            gini -= p ** 2\n",
    "        return gini\n",
    "\n",
    "    def weighted_gini(self, left, right):\n",
    "        n = len(left) + len(right)\n",
    "        return (len(left) / n) * self.gini(left) + (len(right) / n) * self.gini(right)\n",
    "\n",
    "    def bestsplit(self, X, Y):\n",
    "        m_samples, n_features = X.shape\n",
    "        best_thresh, best_feat, best_gini = None, None, 1\n",
    "\n",
    "        # number of features to consider\n",
    "        if self.n_features_split is None:\n",
    "            n_features_split = int(np.sqrt(n_features))\n",
    "        else:\n",
    "            n_features_split = self.n_features_split\n",
    "\n",
    "        # choose random subset of features\n",
    "        features = np.random.choice(n_features, n_features_split, replace=False)\n",
    "\n",
    "        for feature in features:\n",
    "            values = np.unique(X[:, feature])\n",
    "            for value in values:\n",
    "                left_mask = X[:, feature] <= value\n",
    "                right_mask = ~left_mask\n",
    "                y_left, y_right = Y[left_mask], Y[right_mask]\n",
    "                if len(y_left) == 0 or len(y_right) == 0:\n",
    "                    continue\n",
    "                curr_gini = self.weighted_gini(y_left, y_right)\n",
    "                if curr_gini < best_gini:\n",
    "                    best_gini, best_feat, best_thresh = curr_gini, feature, value\n",
    "        return best_gini, best_feat, best_thresh    \n",
    "\n",
    "    def build_tree(self, X, Y, depth=0):\n",
    "        if len(np.unique(Y)) == 1:\n",
    "            return Node(value=Y[0])\n",
    "        \n",
    "        if depth >= self.max_dep:\n",
    "            values, counts = np.unique(Y, return_counts=True)\n",
    "            return Node(value=values[np.argmax(counts)])\n",
    "        \n",
    "        best_gin, best_fea, best_thr = self.bestsplit(X, Y)\n",
    "        if best_fea is None:\n",
    "            values, counts = np.unique(Y, return_counts=True)\n",
    "            return Node(value=values[np.argmax(counts)])\n",
    "\n",
    "        l_mask = X[:, best_fea] <= best_thr\n",
    "        r_mask = ~l_mask\n",
    "\n",
    "        if len(Y[l_mask]) == 0 or len(Y[r_mask]) == 0:\n",
    "            values, counts = np.unique(Y, return_counts=True)\n",
    "            return Node(value=values[np.argmax(counts)])\n",
    "\n",
    "        left_node = self.build_tree(X[l_mask], Y[l_mask], depth=depth+1)\n",
    "        right_node = self.build_tree(X[r_mask], Y[r_mask], depth=depth+1)\n",
    "        return Node(best_fea, best_thr, left_node, right_node)\n",
    "\n",
    "    def predict_one(self, x, node):\n",
    "        if node.value is not None:\n",
    "            return int(node.value)\n",
    "        if x[node.feature] <= node.threshold:\n",
    "            return self.predict_one(x, node.left)\n",
    "        else:\n",
    "            return self.predict_one(x, node.right)\n",
    "\n",
    "    def fit(self, X, Y):\n",
    "        self.root = self.build_tree(X, Y, depth=0)\n",
    "\n",
    "    def predict(self, X):\n",
    "        return [self.predict_one(x, self.root) for x in X.values]\n",
    "\n",
    "    def print_tree(self, node=None, depth=0):\n",
    "        if node is None:\n",
    "            node = self.root\n",
    "        indent = \"  \" * depth\n",
    "        if node.value is not None:\n",
    "            print(f\"{indent}Leaf: Class={node.value}\")\n",
    "            return\n",
    "        print(f\"{indent}Feature[{node.feature}] <= {node.threshold}\")\n",
    "        self.print_tree(node.left, depth+1)\n",
    "        self.print_tree(node.right, depth+1)\n"
   ]
  },
  {
   "cell_type": "code",
   "execution_count": 47,
   "id": "315db7b7",
   "metadata": {},
   "outputs": [],
   "source": [
    "class randomforest:\n",
    "    def __init__(self,maxdep,n_trees):\n",
    "        self.maxdep = maxdep\n",
    "        self.n_trees = n_trees\n",
    "        self.tree = []\n",
    "    def fit(self,X,Y):\n",
    "      for _ in range(self.n_trees):  \n",
    "        tree = decision_tree(self.maxdep)\n",
    "        samples,features = X.shape\n",
    "        row_indexes = np.random.choice(samples,samples,replace=True)\n",
    "        x_samp = X.iloc[row_indexes].values\n",
    "        y_samp = Y.iloc[row_indexes].values\n",
    "        tree.fit(x_samp,y_samp)\n",
    "        self.tree.append(tree)\n",
    "    def predict(self,X):\n",
    "       \n",
    "        pred = np.array([tree.predict(X) for tree in self.tree])\n",
    "        pred = np.swapaxes(pred,0,1)\n",
    "        \n",
    "        y_pred = np.array([Counter(preds).most_common(1)[0][0] for preds in pred])\n",
    "        return y_pred\n",
    "          \n",
    "\n"
   ]
  },
  {
   "cell_type": "code",
   "execution_count": 48,
   "id": "a99a7a6d",
   "metadata": {},
   "outputs": [],
   "source": [
    "from sklearn.model_selection import train_test_split\n",
    "from sklearn.datasets import load_breast_cancer\n",
    "import pandas as pd"
   ]
  },
  {
   "cell_type": "code",
   "execution_count": 49,
   "id": "c04a6cd2",
   "metadata": {},
   "outputs": [],
   "source": [
    "data = load_breast_cancer(as_frame=True)\n",
    "dt = pd.DataFrame(data.data)\n",
    "tar = pd.DataFrame(data.target)"
   ]
  },
  {
   "cell_type": "code",
   "execution_count": 50,
   "id": "17d06b95",
   "metadata": {},
   "outputs": [],
   "source": [
    "x_train,x_test,y_train,y_test = train_test_split(dt,tar,test_size=0.2,random_state=33,shuffle=True)"
   ]
  },
  {
   "cell_type": "code",
   "execution_count": 51,
   "id": "3b8a5765",
   "metadata": {},
   "outputs": [],
   "source": [
    "rn_for = randomforest(4,10)"
   ]
  },
  {
   "cell_type": "code",
   "execution_count": 52,
   "id": "fee239bb",
   "metadata": {},
   "outputs": [],
   "source": [
    "rn_for.fit(x_train,y_train)"
   ]
  },
  {
   "cell_type": "code",
   "execution_count": 53,
   "id": "92f750fa",
   "metadata": {},
   "outputs": [
    {
     "name": "stderr",
     "output_type": "stream",
     "text": [
      "C:\\Users\\BITPATNA\\AppData\\Local\\Temp\\ipykernel_22184\\591058066.py:79: DeprecationWarning: Conversion of an array with ndim > 0 to a scalar is deprecated, and will error in future. Ensure you extract a single element from your array before performing this operation. (Deprecated NumPy 1.25.)\n",
      "  return int(node.value)\n"
     ]
    }
   ],
   "source": [
    "pred = rn_for.predict(x_test)"
   ]
  },
  {
   "cell_type": "code",
   "execution_count": 54,
   "id": "b52b0d7b",
   "metadata": {},
   "outputs": [],
   "source": [
    "from sklearn.metrics import accuracy_score,precision_score,confusion_matrix,f1_score,recall_score"
   ]
  },
  {
   "cell_type": "code",
   "execution_count": 55,
   "id": "de69d652",
   "metadata": {},
   "outputs": [
    {
     "name": "stdout",
     "output_type": "stream",
     "text": [
      "accuracy: 0.9385964912280702\n",
      "precision: 0.9444444444444444\n",
      "confusion matrix:\n",
      " [[39  4]\n",
      " [ 3 68]]\n",
      "f1 score: 0.951048951048951\n",
      "recall score 0.9577464788732394\n"
     ]
    }
   ],
   "source": [
    "print(\"accuracy:\",accuracy_score(y_test,pred))\n",
    "print(\"precision:\",precision_score(y_test,pred))\n",
    "print(\"confusion matrix:\\n\",confusion_matrix(y_test,pred))\n",
    "print(\"f1 score:\",f1_score(y_test,pred))\n",
    "print('recall score',recall_score(y_test,pred))"
   ]
  }
 ],
 "metadata": {
  "kernelspec": {
   "display_name": "Python 3",
   "language": "python",
   "name": "python3"
  },
  "language_info": {
   "codemirror_mode": {
    "name": "ipython",
    "version": 3
   },
   "file_extension": ".py",
   "mimetype": "text/x-python",
   "name": "python",
   "nbconvert_exporter": "python",
   "pygments_lexer": "ipython3",
   "version": "3.13.3"
  }
 },
 "nbformat": 4,
 "nbformat_minor": 5
}
