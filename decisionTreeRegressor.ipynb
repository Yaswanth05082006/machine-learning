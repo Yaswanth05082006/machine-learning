{
 "cells": [
  {
   "cell_type": "code",
   "execution_count": 200,
   "id": "b30e3521",
   "metadata": {},
   "outputs": [],
   "source": [
    "import numpy as np"
   ]
  },
  {
   "cell_type": "code",
   "execution_count": null,
   "id": "1b72c893",
   "metadata": {},
   "outputs": [],
   "source": [
    "from sklearn.datasets import fetch_california_housing# california dataset is a popular dataset of house prices \n",
    "from sklearn.model_selection import train_test_split\n"
   ]
  },
  {
   "cell_type": "code",
   "execution_count": 202,
   "id": "65582ff1",
   "metadata": {},
   "outputs": [],
   "source": [
    "x = fetch_california_housing().data\n",
    "y = fetch_california_housing().target"
   ]
  },
  {
   "cell_type": "code",
   "execution_count": null,
   "id": "c88767b1",
   "metadata": {},
   "outputs": [],
   "source": [
    "class Node:  # initializing Node class\n",
    "    def __init__(self,threshold,feature,left,right,value):\n",
    "        self.threshold = threshold\n",
    "        self.feature = feature\n",
    "        self.left = left\n",
    "        self.right = right\n",
    "        self.value = value"
   ]
  },
  {
   "cell_type": "code",
   "execution_count": null,
   "id": "61432aa9",
   "metadata": {},
   "outputs": [],
   "source": [
    "class decisionTreeRegressor:  # initializing decision tree regressor class\n",
    "    def __init__(self,max_depth,max_leaf_samp):\n",
    "        self.max_depth = max_depth\n",
    "        self.max_leaf_samp = max_leaf_samp\n",
    "        self.root = None # top node or starting node of the tree \n",
    "    def mse(self,x): # calculates mean squared error\n",
    "        x_mean = np.mean(x)\n",
    "        return np.mean((x-x_mean)**2)\n",
    "    def best_split(self,x,y): # spilting data based on calculated mean squared error.\n",
    "        m_samp,n_feat = x.shape\n",
    "        \n",
    "        min_mse = float(np.inf)\n",
    "        best_thresh = None\n",
    "        best_feat = None\n",
    "        for feat in range(n_feat): # iterating features\n",
    "            for thresh in np.unique(x[:,feat]): # iterating thresholds or unique values in columns\n",
    "                x_left_idx = np.where(x[:,feat]<thresh)[0] # finding the idexes of the splited data\n",
    "                x_right_idx = np.where(x[:,feat]>=thresh)[0]\n",
    "                if len(x_left_idx)==0 or len(x_right_idx)==0:# skipping the condition when any of the splited list of indexes is empty\n",
    "                    continue\n",
    "                y_left = y[x_left_idx] # selecting the target values for left and right split\n",
    "                y_right = y[x_right_idx]\n",
    "                error = (len(y_left)*self.mse(y_left)+len(y_right)*self.mse(y_right))/len(y)# calculating weighted mse \n",
    "                if error<min_mse:\n",
    "                    min_mse = error\n",
    "                    best_thresh=thresh\n",
    "                    best_feat=feat\n",
    "        return best_thresh,best_feat\n",
    "    def grow(self,x,y,depth):\n",
    "        if len(x)<self.max_leaf_samp or depth==self.max_depth:\n",
    "\n",
    "            return Node(None,None,None,None,np.mean(y)) # returning the node if the boundary conditions are satisfied\n",
    "        best_thresh,best_feat = self.best_split(x,y)\n",
    "        if best_thresh is None:\n",
    "            return Node(None,None,None,None,np.mean(y))\n",
    "        left_idx = np.where(x[:,best_feat]<best_thresh)[0] # selecting row values \n",
    "        right_idx =np.where(x[:,best_feat]>=best_thresh)[0]\n",
    "        left_node = self.grow(x[left_idx],y[left_idx],depth=depth+1) # recurcively calling function to continue splitting\n",
    "        right_node = self.grow(x[right_idx],y[right_idx],depth=depth+1)\n",
    "        return Node(best_thresh,best_feat,left_node,right_node,None)\n",
    "    def traverse(self,x,node):\n",
    "        if node.value is not None:\n",
    "            return node.value\n",
    "        if x[node.feature]<node.threshold:\n",
    "           return self.traverse(x,node.left)\n",
    "        else:\n",
    "           return self.traverse(x,node.right)    \n",
    "    def predict(self,X):\n",
    "        return np.array([self.traverse(x,self.root) for x in X])\n",
    "    def fit(self,X,Y):\n",
    "        self.root = self.grow(X,Y,0)\n",
    "    \n",
    "\n",
    "        \n",
    "\n",
    "\n",
    "                    \n",
    "\n"
   ]
  },
  {
   "cell_type": "code",
   "execution_count": 205,
   "id": "9108547e",
   "metadata": {},
   "outputs": [],
   "source": [
    "model = decisionTreeRegressor(9,10)"
   ]
  },
  {
   "cell_type": "code",
   "execution_count": 206,
   "id": "6c4acdf2",
   "metadata": {},
   "outputs": [],
   "source": [
    "x_train,x_test,y_train,y_test = train_test_split(x,y,test_size=0.2,shuffle=True,random_state=33)"
   ]
  },
  {
   "cell_type": "code",
   "execution_count": 207,
   "id": "a8cb7926",
   "metadata": {},
   "outputs": [],
   "source": [
    "model.fit(x_train,y_train)"
   ]
  },
  {
   "cell_type": "code",
   "execution_count": 216,
   "id": "4c427e72",
   "metadata": {},
   "outputs": [],
   "source": [
    "pred = model.predict(x_test)"
   ]
  },
  {
   "cell_type": "code",
   "execution_count": 208,
   "id": "2610d77a",
   "metadata": {},
   "outputs": [],
   "source": [
    "from sklearn.metrics import root_mean_squared_error,r2_score"
   ]
  },
  {
   "cell_type": "code",
   "execution_count": 209,
   "id": "c40ac002",
   "metadata": {},
   "outputs": [],
   "source": [
    "# rm = 100\n",
    "# rm_list = []\n",
    "# dep = None\n",
    "# n_sam = None\n",
    "# for i in range(1,11):\n",
    "#     for j in range(1,11):\n",
    "#         model_test = decisionTreeRegressor(i,j)\n",
    "#         model_test.fit(x_train,y_train)\n",
    "#         pred = model_test.predict(x_test)\n",
    "#         curr_rm = root_mean_squared_error(y_test,pred)\n",
    "#         rm_list.append(curr_rm)\n",
    "#         if rm>curr_rm:\n",
    "#             rm = curr_rm\n",
    "#             dep = i\n",
    "#             n_sam = j\n",
    "# print(\"min rmse :\",rm)            \n",
    "# print(\"rm list:\\n\",rm_list)\n",
    "# print(\"depth:\",dep)\n",
    "# print(\"n samples per leaf:\",n_sam)\n",
    "\n",
    "            \n"
   ]
  },
  {
   "cell_type": "code",
   "execution_count": 217,
   "id": "c0df0451",
   "metadata": {},
   "outputs": [
    {
     "name": "stdout",
     "output_type": "stream",
     "text": [
      "rmse: 0.6156932174917196\n",
      "r2 score: 0.7211987733914427\n"
     ]
    }
   ],
   "source": [
    "print(\"rmse:\",root_mean_squared_error(y_test,pred))\n",
    "print(\"r2 score:\",r2_score(y_test,pred))"
   ]
  },
  {
   "cell_type": "code",
   "execution_count": null,
   "id": "f243bbd3",
   "metadata": {},
   "outputs": [],
   "source": [
    "def print_tree(node, depth=0):#i got this from chat gpt \n",
    "    indent = \"  \" * depth\n",
    "    if node.value is not None:\n",
    "        print(f\"{indent}Leaf: value = {node.value}\")\n",
    "    else:\n",
    "        print(f\"{indent}X[{node.feature}] < {node.threshold}\")\n",
    "        print_tree(node.left, depth+1)\n",
    "        print_tree(node.right, depth+1)\n"
   ]
  }
 ],
 "metadata": {
  "kernelspec": {
   "display_name": "Python 3",
   "language": "python",
   "name": "python3"
  },
  "language_info": {
   "codemirror_mode": {
    "name": "ipython",
    "version": 3
   },
   "file_extension": ".py",
   "mimetype": "text/x-python",
   "name": "python",
   "nbconvert_exporter": "python",
   "pygments_lexer": "ipython3",
   "version": "3.13.3"
  }
 },
 "nbformat": 4,
 "nbformat_minor": 5
}
