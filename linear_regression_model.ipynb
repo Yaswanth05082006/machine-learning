{
 "cells": [
  {
   "cell_type": "code",
   "execution_count": 164,
   "id": "c0a7d76e",
   "metadata": {},
   "outputs": [],
   "source": [
    "import tensorflow as tf\n",
    "import numpy as np\n",
    "from sklearn.preprocessing import StandardScaler\n",
    "import pandas as pd\n"
   ]
  },
  {
   "cell_type": "code",
   "execution_count": 165,
   "id": "02d44e93",
   "metadata": {},
   "outputs": [],
   "source": [
    "class LinearRegression:\n",
    "    def __init__(self,epochs,lr):\n",
    "        self.lr = lr\n",
    "        self.epochs = epochs\n",
    "        self.weights = None\n",
    "        self.bias = None\n",
    "    def predict(self,X):\n",
    "        X = tf.cast(X,dtype=tf.float64)\n",
    "        return tf.tensordot(self.weights,tf.transpose(X),axes=1)+self.bias\n",
    "    def fit(self,X,Y):\n",
    "        Y = tf.cast(Y,dtype=tf.float64)\n",
    "        m_samp,n_feat = X.shape\n",
    "        self.weights=tf.Variable(tf.zeros(n_feat,dtype=tf.float64))\n",
    "        self.bias=tf.Variable(0.0,dtype=tf.float64)\n",
    "        for epoch in range(self.epochs):\n",
    "            \n",
    "            with tf.GradientTape() as tape:\n",
    "                y = tf.tensordot(self.weights,tf.transpose(X),axes=1)+self.bias\n",
    "                loss = (1/len(y))*tf.reduce_sum((y-Y)**2)\n",
    "                if epoch%100==0:\n",
    "                  print('loss:',loss)\n",
    "            [dw,db] = tape.gradient(loss,[self.weights,self.bias])\n",
    "          \n",
    "            self.weights.assign_sub(self.lr*dw)\n",
    "            self.bias.assign_sub(self.lr*db)\n",
    "\n"
   ]
  },
  {
   "cell_type": "code",
   "execution_count": 166,
   "id": "7bcd4f93",
   "metadata": {},
   "outputs": [
    {
     "name": "stdout",
     "output_type": "stream",
     "text": [
      "tf.Tensor(23.0, shape=(), dtype=float32) tf.Tensor(1.0, shape=(), dtype=float32)\n"
     ]
    }
   ],
   "source": [
    "wei = tf.Variable(34.0)\n",
    "b = tf.Variable(6.0)\n",
    "with tf.GradientTape() as tape:\n",
    "    x=23\n",
    "    y = wei*x+b\n",
    "dw,db = tape.gradient(y,[wei,b])\n",
    "print(dw,db)"
   ]
  },
  {
   "cell_type": "code",
   "execution_count": 167,
   "id": "aede1540",
   "metadata": {},
   "outputs": [],
   "source": [
    "from sklearn.datasets import fetch_california_housing\n",
    "from sklearn.model_selection import train_test_split\n"
   ]
  },
  {
   "cell_type": "code",
   "execution_count": 168,
   "id": "ad37af7e",
   "metadata": {},
   "outputs": [],
   "source": [
    "data = fetch_california_housing(as_frame=True)\n",
    "# scalar = StandardScaler()"
   ]
  },
  {
   "cell_type": "code",
   "execution_count": 169,
   "id": "60198fe7",
   "metadata": {},
   "outputs": [],
   "source": [
    "dt =pd.DataFrame(data.data)\n",
    "dt['target']=data.target"
   ]
  },
  {
   "cell_type": "code",
   "execution_count": 170,
   "id": "5aa6d88e",
   "metadata": {},
   "outputs": [
    {
     "data": {
      "text/html": [
       "<div>\n",
       "<style scoped>\n",
       "    .dataframe tbody tr th:only-of-type {\n",
       "        vertical-align: middle;\n",
       "    }\n",
       "\n",
       "    .dataframe tbody tr th {\n",
       "        vertical-align: top;\n",
       "    }\n",
       "\n",
       "    .dataframe thead th {\n",
       "        text-align: right;\n",
       "    }\n",
       "</style>\n",
       "<table border=\"1\" class=\"dataframe\">\n",
       "  <thead>\n",
       "    <tr style=\"text-align: right;\">\n",
       "      <th></th>\n",
       "      <th>MedInc</th>\n",
       "      <th>HouseAge</th>\n",
       "      <th>AveRooms</th>\n",
       "      <th>AveBedrms</th>\n",
       "      <th>Population</th>\n",
       "      <th>AveOccup</th>\n",
       "      <th>Latitude</th>\n",
       "      <th>Longitude</th>\n",
       "      <th>target</th>\n",
       "    </tr>\n",
       "  </thead>\n",
       "  <tbody>\n",
       "    <tr>\n",
       "      <th>0</th>\n",
       "      <td>8.3252</td>\n",
       "      <td>41.0</td>\n",
       "      <td>6.984127</td>\n",
       "      <td>1.023810</td>\n",
       "      <td>322.0</td>\n",
       "      <td>2.555556</td>\n",
       "      <td>37.88</td>\n",
       "      <td>-122.23</td>\n",
       "      <td>4.526</td>\n",
       "    </tr>\n",
       "    <tr>\n",
       "      <th>1</th>\n",
       "      <td>8.3014</td>\n",
       "      <td>21.0</td>\n",
       "      <td>6.238137</td>\n",
       "      <td>0.971880</td>\n",
       "      <td>2401.0</td>\n",
       "      <td>2.109842</td>\n",
       "      <td>37.86</td>\n",
       "      <td>-122.22</td>\n",
       "      <td>3.585</td>\n",
       "    </tr>\n",
       "    <tr>\n",
       "      <th>2</th>\n",
       "      <td>7.2574</td>\n",
       "      <td>52.0</td>\n",
       "      <td>8.288136</td>\n",
       "      <td>1.073446</td>\n",
       "      <td>496.0</td>\n",
       "      <td>2.802260</td>\n",
       "      <td>37.85</td>\n",
       "      <td>-122.24</td>\n",
       "      <td>3.521</td>\n",
       "    </tr>\n",
       "    <tr>\n",
       "      <th>3</th>\n",
       "      <td>5.6431</td>\n",
       "      <td>52.0</td>\n",
       "      <td>5.817352</td>\n",
       "      <td>1.073059</td>\n",
       "      <td>558.0</td>\n",
       "      <td>2.547945</td>\n",
       "      <td>37.85</td>\n",
       "      <td>-122.25</td>\n",
       "      <td>3.413</td>\n",
       "    </tr>\n",
       "    <tr>\n",
       "      <th>4</th>\n",
       "      <td>3.8462</td>\n",
       "      <td>52.0</td>\n",
       "      <td>6.281853</td>\n",
       "      <td>1.081081</td>\n",
       "      <td>565.0</td>\n",
       "      <td>2.181467</td>\n",
       "      <td>37.85</td>\n",
       "      <td>-122.25</td>\n",
       "      <td>3.422</td>\n",
       "    </tr>\n",
       "  </tbody>\n",
       "</table>\n",
       "</div>"
      ],
      "text/plain": [
       "   MedInc  HouseAge  AveRooms  AveBedrms  Population  AveOccup  Latitude  \\\n",
       "0  8.3252      41.0  6.984127   1.023810       322.0  2.555556     37.88   \n",
       "1  8.3014      21.0  6.238137   0.971880      2401.0  2.109842     37.86   \n",
       "2  7.2574      52.0  8.288136   1.073446       496.0  2.802260     37.85   \n",
       "3  5.6431      52.0  5.817352   1.073059       558.0  2.547945     37.85   \n",
       "4  3.8462      52.0  6.281853   1.081081       565.0  2.181467     37.85   \n",
       "\n",
       "   Longitude  target  \n",
       "0    -122.23   4.526  \n",
       "1    -122.22   3.585  \n",
       "2    -122.24   3.521  \n",
       "3    -122.25   3.413  \n",
       "4    -122.25   3.422  "
      ]
     },
     "execution_count": 170,
     "metadata": {},
     "output_type": "execute_result"
    }
   ],
   "source": [
    "dt.head()"
   ]
  },
  {
   "cell_type": "code",
   "execution_count": 171,
   "id": "54591935",
   "metadata": {},
   "outputs": [],
   "source": [
    "import matplotlib.pyplot as plt\n",
    "import seaborn as sns\n"
   ]
  },
  {
   "cell_type": "code",
   "execution_count": 172,
   "id": "c9a38108",
   "metadata": {},
   "outputs": [],
   "source": [
    "corr=dt.corr()"
   ]
  },
  {
   "cell_type": "code",
   "execution_count": 173,
   "id": "6f6b9e9a",
   "metadata": {},
   "outputs": [
    {
     "data": {
      "image/png": "[encoded data removed]",
      "text/plain": [
       "<Figure size 700x600 with 2 Axes>"
      ]
     },
     "metadata": {},
     "output_type": "display_data"
    }
   ],
   "source": [
    "plt.figure(figsize=(7,6))\n",
    "sns.heatmap(corr,annot=True,cmap=\"coolwarm\")\n",
    "plt.show()\n"
   ]
  },
  {
   "cell_type": "code",
   "execution_count": 174,
   "id": "611ee08e",
   "metadata": {},
   "outputs": [],
   "source": [
    "# dt.drop(['AveBedrms','Longitude'],axis=1,inplace=True)"
   ]
  },
  {
   "cell_type": "code",
   "execution_count": 175,
   "id": "e86a8786",
   "metadata": {},
   "outputs": [
    {
     "data": {
      "image/png": "[encoded data removed]",
      "text/plain": [
       "<Figure size 700x600 with 1 Axes>"
      ]
     },
     "metadata": {},
     "output_type": "display_data"
    }
   ],
   "source": [
    "plt.figure(figsize=(7,6))\n",
    "sns.histplot(data=dt,x='MedInc')\n",
    "plt.show()"
   ]
  },
  {
   "cell_type": "code",
   "execution_count": 176,
   "id": "e439df16",
   "metadata": {},
   "outputs": [],
   "source": [
    "def remove_out(dt):\n",
    "    for col in dt.columns:\n",
    "        Q1=dt[col].quantile(0.25)\n",
    "        Q3=dt[col].quantile(0.75)\n",
    "        IQR=Q3-Q1\n",
    "        lower = Q1-1.5*IQR\n",
    "        upper=Q3+1.5*IQR\n",
    "        dt = dt[(dt[col]>=lower)&(dt[col]<=upper)]\n",
    "    return dt    "
   ]
  },
  {
   "cell_type": "code",
   "execution_count": 177,
   "id": "37f32234",
   "metadata": {},
   "outputs": [],
   "source": [
    "dt = remove_out(dt)"
   ]
  },
  {
   "cell_type": "code",
   "execution_count": 178,
   "id": "ee4c1fa1",
   "metadata": {},
   "outputs": [],
   "source": [
    "dt.iloc[:,:-1] = scalar.fit_transform(dt.iloc[:,:-1])"
   ]
  },
  {
   "cell_type": "code",
   "execution_count": 179,
   "id": "4f0c9e8e",
   "metadata": {},
   "outputs": [
    {
     "data": {
      "text/html": [
       "<div>\n",
       "<style scoped>\n",
       "    .dataframe tbody tr th:only-of-type {\n",
       "        vertical-align: middle;\n",
       "    }\n",
       "\n",
       "    .dataframe tbody tr th {\n",
       "        vertical-align: top;\n",
       "    }\n",
       "\n",
       "    .dataframe thead th {\n",
       "        text-align: right;\n",
       "    }\n",
       "</style>\n",
       "<table border=\"1\" class=\"dataframe\">\n",
       "  <thead>\n",
       "    <tr style=\"text-align: right;\">\n",
       "      <th></th>\n",
       "      <th>MedInc</th>\n",
       "      <th>HouseAge</th>\n",
       "      <th>AveRooms</th>\n",
       "      <th>AveBedrms</th>\n",
       "      <th>Population</th>\n",
       "      <th>AveOccup</th>\n",
       "      <th>Latitude</th>\n",
       "      <th>Longitude</th>\n",
       "      <th>target</th>\n",
       "    </tr>\n",
       "  </thead>\n",
       "  <tbody>\n",
       "    <tr>\n",
       "      <th>3</th>\n",
       "      <td>1.389789</td>\n",
       "      <td>1.853373</td>\n",
       "      <td>0.642988</td>\n",
       "      <td>0.397607</td>\n",
       "      <td>-1.137880</td>\n",
       "      <td>-0.512029</td>\n",
       "      <td>1.018223</td>\n",
       "      <td>-1.316298</td>\n",
       "      <td>3.413</td>\n",
       "    </tr>\n",
       "    <tr>\n",
       "      <th>4</th>\n",
       "      <td>0.137604</td>\n",
       "      <td>1.853373</td>\n",
       "      <td>1.091080</td>\n",
       "      <td>0.519467</td>\n",
       "      <td>-1.126831</td>\n",
       "      <td>-1.097335</td>\n",
       "      <td>1.018223</td>\n",
       "      <td>-1.316298</td>\n",
       "      <td>3.422</td>\n",
       "    </tr>\n",
       "    <tr>\n",
       "      <th>5</th>\n",
       "      <td>0.270425</td>\n",
       "      <td>1.853373</td>\n",
       "      <td>-0.375410</td>\n",
       "      <td>0.861967</td>\n",
       "      <td>-1.366750</td>\n",
       "      <td>-1.163728</td>\n",
       "      <td>1.018223</td>\n",
       "      <td>-1.316298</td>\n",
       "      <td>2.697</td>\n",
       "    </tr>\n",
       "    <tr>\n",
       "      <th>6</th>\n",
       "      <td>0.007221</td>\n",
       "      <td>1.853373</td>\n",
       "      <td>-0.211176</td>\n",
       "      <td>-1.451132</td>\n",
       "      <td>-0.291852</td>\n",
       "      <td>-1.182082</td>\n",
       "      <td>1.013553</td>\n",
       "      <td>-1.316298</td>\n",
       "      <td>2.992</td>\n",
       "    </tr>\n",
       "    <tr>\n",
       "      <th>7</th>\n",
       "      <td>-0.368455</td>\n",
       "      <td>1.853373</td>\n",
       "      <td>-0.340808</td>\n",
       "      <td>0.226925</td>\n",
       "      <td>-0.192412</td>\n",
       "      <td>-1.725341</td>\n",
       "      <td>1.013553</td>\n",
       "      <td>-1.316298</td>\n",
       "      <td>2.414</td>\n",
       "    </tr>\n",
       "  </tbody>\n",
       "</table>\n",
       "</div>"
      ],
      "text/plain": [
       "     MedInc  HouseAge  AveRooms  AveBedrms  Population  AveOccup  Latitude  \\\n",
       "3  1.389789  1.853373  0.642988   0.397607   -1.137880 -0.512029  1.018223   \n",
       "4  0.137604  1.853373  1.091080   0.519467   -1.126831 -1.097335  1.018223   \n",
       "5  0.270425  1.853373 -0.375410   0.861967   -1.366750 -1.163728  1.018223   \n",
       "6  0.007221  1.853373 -0.211176  -1.451132   -0.291852 -1.182082  1.013553   \n",
       "7 -0.368455  1.853373 -0.340808   0.226925   -0.192412 -1.725341  1.013553   \n",
       "\n",
       "   Longitude  target  \n",
       "3  -1.316298   3.413  \n",
       "4  -1.316298   3.422  \n",
       "5  -1.316298   2.697  \n",
       "6  -1.316298   2.992  \n",
       "7  -1.316298   2.414  "
      ]
     },
     "execution_count": 179,
     "metadata": {},
     "output_type": "execute_result"
    }
   ],
   "source": [
    "dt.head()"
   ]
  },
  {
   "cell_type": "code",
   "execution_count": 180,
   "id": "c6445719",
   "metadata": {},
   "outputs": [],
   "source": [
    "from sklearn.preprocessing import PowerTransformer"
   ]
  },
  {
   "cell_type": "code",
   "execution_count": 181,
   "id": "b8679392",
   "metadata": {},
   "outputs": [],
   "source": [
    "# transformer = PowerTransformer(method='yeo-johnson')"
   ]
  },
  {
   "cell_type": "code",
   "execution_count": 182,
   "id": "ce19e2ae",
   "metadata": {},
   "outputs": [],
   "source": [
    "# dt.iloc[:,:-1] = transformer.fit_transform(dt.iloc[:,:-1])"
   ]
  },
  {
   "cell_type": "code",
   "execution_count": 183,
   "id": "8afb79f3",
   "metadata": {},
   "outputs": [],
   "source": [
    "dt = tf.convert_to_tensor(dt.values,dtype=tf.float64)"
   ]
  },
  {
   "cell_type": "code",
   "execution_count": 184,
   "id": "326f6a16",
   "metadata": {},
   "outputs": [
    {
     "data": {
      "text/html": [
       "<div>\n",
       "<style scoped>\n",
       "    .dataframe tbody tr th:only-of-type {\n",
       "        vertical-align: middle;\n",
       "    }\n",
       "\n",
       "    .dataframe tbody tr th {\n",
       "        vertical-align: top;\n",
       "    }\n",
       "\n",
       "    .dataframe thead th {\n",
       "        text-align: right;\n",
       "    }\n",
       "</style>\n",
       "<table border=\"1\" class=\"dataframe\">\n",
       "  <thead>\n",
       "    <tr style=\"text-align: right;\">\n",
       "      <th></th>\n",
       "      <th>0</th>\n",
       "      <th>1</th>\n",
       "      <th>2</th>\n",
       "      <th>3</th>\n",
       "      <th>4</th>\n",
       "      <th>5</th>\n",
       "      <th>6</th>\n",
       "      <th>7</th>\n",
       "      <th>8</th>\n",
       "    </tr>\n",
       "  </thead>\n",
       "  <tbody>\n",
       "    <tr>\n",
       "      <th>0</th>\n",
       "      <td>1.389789</td>\n",
       "      <td>1.853373</td>\n",
       "      <td>0.642988</td>\n",
       "      <td>0.397607</td>\n",
       "      <td>-1.137880</td>\n",
       "      <td>-0.512029</td>\n",
       "      <td>1.018223</td>\n",
       "      <td>-1.316298</td>\n",
       "      <td>3.413</td>\n",
       "    </tr>\n",
       "    <tr>\n",
       "      <th>1</th>\n",
       "      <td>0.137604</td>\n",
       "      <td>1.853373</td>\n",
       "      <td>1.091080</td>\n",
       "      <td>0.519467</td>\n",
       "      <td>-1.126831</td>\n",
       "      <td>-1.097335</td>\n",
       "      <td>1.018223</td>\n",
       "      <td>-1.316298</td>\n",
       "      <td>3.422</td>\n",
       "    </tr>\n",
       "    <tr>\n",
       "      <th>2</th>\n",
       "      <td>0.270425</td>\n",
       "      <td>1.853373</td>\n",
       "      <td>-0.375410</td>\n",
       "      <td>0.861967</td>\n",
       "      <td>-1.366750</td>\n",
       "      <td>-1.163728</td>\n",
       "      <td>1.018223</td>\n",
       "      <td>-1.316298</td>\n",
       "      <td>2.697</td>\n",
       "    </tr>\n",
       "    <tr>\n",
       "      <th>3</th>\n",
       "      <td>0.007221</td>\n",
       "      <td>1.853373</td>\n",
       "      <td>-0.211176</td>\n",
       "      <td>-1.451132</td>\n",
       "      <td>-0.291852</td>\n",
       "      <td>-1.182082</td>\n",
       "      <td>1.013553</td>\n",
       "      <td>-1.316298</td>\n",
       "      <td>2.992</td>\n",
       "    </tr>\n",
       "    <tr>\n",
       "      <th>4</th>\n",
       "      <td>-0.368455</td>\n",
       "      <td>1.853373</td>\n",
       "      <td>-0.340808</td>\n",
       "      <td>0.226925</td>\n",
       "      <td>-0.192412</td>\n",
       "      <td>-1.725341</td>\n",
       "      <td>1.013553</td>\n",
       "      <td>-1.316298</td>\n",
       "      <td>2.414</td>\n",
       "    </tr>\n",
       "    <tr>\n",
       "      <th>...</th>\n",
       "      <td>...</td>\n",
       "      <td>...</td>\n",
       "      <td>...</td>\n",
       "      <td>...</td>\n",
       "      <td>...</td>\n",
       "      <td>...</td>\n",
       "      <td>...</td>\n",
       "      <td>...</td>\n",
       "      <td>...</td>\n",
       "    </tr>\n",
       "    <tr>\n",
       "      <th>16227</th>\n",
       "      <td>0.044434</td>\n",
       "      <td>-0.115944</td>\n",
       "      <td>1.570730</td>\n",
       "      <td>1.539936</td>\n",
       "      <td>-0.375508</td>\n",
       "      <td>0.251738</td>\n",
       "      <td>1.681359</td>\n",
       "      <td>-0.970488</td>\n",
       "      <td>1.168</td>\n",
       "    </tr>\n",
       "    <tr>\n",
       "      <th>16228</th>\n",
       "      <td>-1.455345</td>\n",
       "      <td>-0.362109</td>\n",
       "      <td>-0.101639</td>\n",
       "      <td>1.313245</td>\n",
       "      <td>-0.684876</td>\n",
       "      <td>-0.491808</td>\n",
       "      <td>1.779428</td>\n",
       "      <td>-0.734937</td>\n",
       "      <td>0.781</td>\n",
       "    </tr>\n",
       "    <tr>\n",
       "      <th>16229</th>\n",
       "      <td>-1.357994</td>\n",
       "      <td>-1.018548</td>\n",
       "      <td>0.052793</td>\n",
       "      <td>1.112098</td>\n",
       "      <td>-0.429174</td>\n",
       "      <td>-0.867083</td>\n",
       "      <td>1.756079</td>\n",
       "      <td>-0.800089</td>\n",
       "      <td>0.923</td>\n",
       "    </tr>\n",
       "    <tr>\n",
       "      <th>16230</th>\n",
       "      <td>-1.241480</td>\n",
       "      <td>-0.936493</td>\n",
       "      <td>0.172384</td>\n",
       "      <td>1.899422</td>\n",
       "      <td>-0.849031</td>\n",
       "      <td>-1.190380</td>\n",
       "      <td>1.756079</td>\n",
       "      <td>-0.850207</td>\n",
       "      <td>0.847</td>\n",
       "    </tr>\n",
       "    <tr>\n",
       "      <th>16231</th>\n",
       "      <td>-0.878138</td>\n",
       "      <td>-1.100603</td>\n",
       "      <td>0.100230</td>\n",
       "      <td>1.752740</td>\n",
       "      <td>0.170623</td>\n",
       "      <td>-0.401771</td>\n",
       "      <td>1.728059</td>\n",
       "      <td>-0.810113</td>\n",
       "      <td>0.894</td>\n",
       "    </tr>\n",
       "  </tbody>\n",
       "</table>\n",
       "<p>16232 rows × 9 columns</p>\n",
       "</div>"
      ],
      "text/plain": [
       "              0         1         2         3         4         5         6  \\\n",
       "0      1.389789  1.853373  0.642988  0.397607 -1.137880 -0.512029  1.018223   \n",
       "1      0.137604  1.853373  1.091080  0.519467 -1.126831 -1.097335  1.018223   \n",
       "2      0.270425  1.853373 -0.375410  0.861967 -1.366750 -1.163728  1.018223   \n",
       "3      0.007221  1.853373 -0.211176 -1.451132 -0.291852 -1.182082  1.013553   \n",
       "4     -0.368455  1.853373 -0.340808  0.226925 -0.192412 -1.725341  1.013553   \n",
       "...         ...       ...       ...       ...       ...       ...       ...   \n",
       "16227  0.044434 -0.115944  1.570730  1.539936 -0.375508  0.251738  1.681359   \n",
       "16228 -1.455345 -0.362109 -0.101639  1.313245 -0.684876 -0.491808  1.779428   \n",
       "16229 -1.357994 -1.018548  0.052793  1.112098 -0.429174 -0.867083  1.756079   \n",
       "16230 -1.241480 -0.936493  0.172384  1.899422 -0.849031 -1.190380  1.756079   \n",
       "16231 -0.878138 -1.100603  0.100230  1.752740  0.170623 -0.401771  1.728059   \n",
       "\n",
       "              7      8  \n",
       "0     -1.316298  3.413  \n",
       "1     -1.316298  3.422  \n",
       "2     -1.316298  2.697  \n",
       "3     -1.316298  2.992  \n",
       "4     -1.316298  2.414  \n",
       "...         ...    ...  \n",
       "16227 -0.970488  1.168  \n",
       "16228 -0.734937  0.781  \n",
       "16229 -0.800089  0.923  \n",
       "16230 -0.850207  0.847  \n",
       "16231 -0.810113  0.894  \n",
       "\n",
       "[16232 rows x 9 columns]"
      ]
     },
     "execution_count": 184,
     "metadata": {},
     "output_type": "execute_result"
    }
   ],
   "source": [
    "dt = pd.DataFrame(dt)\n",
    "dt"
   ]
  },
  {
   "cell_type": "code",
   "execution_count": 185,
   "id": "0a32319e",
   "metadata": {},
   "outputs": [],
   "source": [
    "x_train,x_test,y_train,y_test = train_test_split(dt.iloc[:,:-1],dt.iloc[:,-1],test_size=0.2,random_state=11,shuffle=True)"
   ]
  },
  {
   "cell_type": "code",
   "execution_count": 186,
   "id": "94946926",
   "metadata": {},
   "outputs": [],
   "source": [
    "model = LinearRegression(1000,0.1)"
   ]
  },
  {
   "cell_type": "code",
   "execution_count": 187,
   "id": "4722ec61",
   "metadata": {},
   "outputs": [
    {
     "name": "stdout",
     "output_type": "stream",
     "text": [
      "loss: tf.Tensor(4.512249259992307, shape=(), dtype=float64)\n",
      "loss: tf.Tensor(0.3152826198301196, shape=(), dtype=float64)\n",
      "loss: tf.Tensor(0.3099051748118003, shape=(), dtype=float64)\n",
      "loss: tf.Tensor(0.30898945596535377, shape=(), dtype=float64)\n",
      "loss: tf.Tensor(0.3088332893817082, shape=(), dtype=float64)\n",
      "loss: tf.Tensor(0.30880665673743574, shape=(), dtype=float64)\n",
      "loss: tf.Tensor(0.3088021148071168, shape=(), dtype=float64)\n",
      "loss: tf.Tensor(0.30880134022646266, shape=(), dtype=float64)\n",
      "loss: tf.Tensor(0.3088012081295022, shape=(), dtype=float64)\n",
      "loss: tf.Tensor(0.3088011856016907, shape=(), dtype=float64)\n"
     ]
    }
   ],
   "source": [
    "model.fit(x_train,y_train)"
   ]
  },
  {
   "cell_type": "code",
   "execution_count": 188,
   "id": "7b5ad5e1",
   "metadata": {},
   "outputs": [],
   "source": [
    "pred = model.predict(x_test)"
   ]
  },
  {
   "cell_type": "code",
   "execution_count": 189,
   "id": "1a927e74",
   "metadata": {},
   "outputs": [
    {
     "data": {
      "text/plain": [
       "<tf.Variable 'Variable:0' shape=(8,) dtype=float64, numpy=\n",
       "array([ 0.63751069,  0.12320207, -0.12336683,  0.08484307,  0.05413203,\n",
       "       -0.2285625 , -0.83701638, -0.77710513])>"
      ]
     },
     "execution_count": 189,
     "metadata": {},
     "output_type": "execute_result"
    }
   ],
   "source": [
    "model.weights"
   ]
  },
  {
   "cell_type": "code",
   "execution_count": null,
   "id": "b824251c",
   "metadata": {},
   "outputs": [],
   "source": [
    "pred = pred.numpy()"
   ]
  },
  {
   "cell_type": "code",
   "execution_count": 195,
   "id": "cd68b6e0",
   "metadata": {},
   "outputs": [],
   "source": [
    "from sklearn.metrics import root_mean_squared_error,r2_score\n",
    "from sklearn.model_selection import cross_val_score"
   ]
  },
  {
   "cell_type": "code",
   "execution_count": 192,
   "id": "9494874e",
   "metadata": {},
   "outputs": [
    {
     "name": "stdout",
     "output_type": "stream",
     "text": [
      "rmse: 0.5725976957292285\n"
     ]
    }
   ],
   "source": [
    "print(\"rmse:\",root_mean_squared_error(y_test,pred))"
   ]
  },
  {
   "cell_type": "code",
   "execution_count": 193,
   "id": "9c9ad678",
   "metadata": {},
   "outputs": [
    {
     "name": "stdout",
     "output_type": "stream",
     "text": [
      "r2 score: 0.6303768342833121\n"
     ]
    }
   ],
   "source": [
    "print('r2 score:',r2_score(y_test,pred))"
   ]
  },
  {
   "cell_type": "code",
   "execution_count": 197,
   "id": "a95af6bd",
   "metadata": {},
   "outputs": [],
   "source": [
    "from sklearn.linear_model import LinearRegression"
   ]
  }
 ],
 "metadata": {
  "kernelspec": {
   "display_name": "Python 3",
   "language": "python",
   "name": "python3"
  },
  "language_info": {
   "codemirror_mode": {
    "name": "ipython",
    "version": 3
   },
   "file_extension": ".py",
   "mimetype": "text/x-python",
   "name": "python",
   "nbconvert_exporter": "python",
   "pygments_lexer": "ipython3",
   "version": "3.13.3"
  }
 },
 "nbformat": 4,
 "nbformat_minor": 5
}
